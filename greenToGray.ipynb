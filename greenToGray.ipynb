{
 "cells": [
  {
   "cell_type": "code",
   "execution_count": null,
   "id": "3ca07f0a",
   "metadata": {},
   "outputs": [],
   "source": [
    "j = 0\n",
    "imgb_path = os.path.join(train_b_dir, 'test_b')\n",
    "#os.mkdir(imgb_path,mode)\n",
    "img_path = os.path.join(test_dir, 'testdata')\n",
    "images = glob.glob(img_path + '/*.png')\n",
    "for i in range(len(images)):\n",
    "    im = cv2.imread(images[i])\n",
    "    image = filterPlants(im)\n",
    "    j+=1\n",
    "    cv2.imwrite(images[i],image)\n",
    "    print(j)"
   ]
  }
 ],
 "metadata": {
  "kernelspec": {
   "display_name": "Python 3 (ipykernel)",
   "language": "python",
   "name": "python3"
  },
  "language_info": {
   "codemirror_mode": {
    "name": "ipython",
    "version": 3
   },
   "file_extension": ".py",
   "mimetype": "text/x-python",
   "name": "python",
   "nbconvert_exporter": "python",
   "pygments_lexer": "ipython3",
   "version": "3.9.13"
  }
 },
 "nbformat": 4,
 "nbformat_minor": 5
}
